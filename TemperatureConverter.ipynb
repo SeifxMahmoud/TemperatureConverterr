{
 "cells": [
  {
   "cell_type": "code",
   "execution_count": 29,
   "id": "6653e4d2-f24d-4a1a-afda-7b119caee052",
   "metadata": {},
   "outputs": [],
   "source": [
    "'''\n",
    "This can be easily done using a couple of functions interacting with one another. \n",
    "This func is made to take temp value from the user. Implemented try,except for errors handling.\n",
    "'''\n",
    "def take_temp():\n",
    "    while True: \n",
    "        try:\n",
    "            temp = float(input(\"Please enter a temp value\"))\n",
    "        except:\n",
    "            print(\"Wrong value, please enter a float number.\")\n",
    "            continue\n",
    "        else:\n",
    "            break\n",
    "\n",
    "    "
   ]
  },
  {
   "cell_type": "code",
   "execution_count": 61,
   "id": "e43e20ab-6851-4321-aa74-b0e0bfe2961d",
   "metadata": {},
   "outputs": [],
   "source": [
    "'''\n",
    "These functions control the flow of the program based on user direction chosen, either c or f, these will be called accordingly. \n",
    "'''\n",
    "\n",
    "def c_to_f():\n",
    "    while True:\n",
    "        try:\n",
    "            temp = float(input(\"Please enter a temp value to convert\"))\n",
    "        except: \n",
    "            print(\"Wrong value, please enter a float number\")\n",
    "            continue \n",
    "        else: \n",
    "            return temp * (9/5) + 32 \n",
    "        \n",
    "        \n",
    "def f_to_c():\n",
    "    while True:\n",
    "        try:\n",
    "            temp = float(input(\"Please enter a temp value to convert\"))\n",
    "        except: \n",
    "            print(\"Wrong value, please enter a float number\")\n",
    "            continue \n",
    "        else: \n",
    "            return (temp-32)*(5/9) \n",
    "    \n",
    "    "
   ]
  },
  {
   "cell_type": "code",
   "execution_count": 63,
   "id": "906e056a-904c-4a70-a82e-4f4ef7edc475",
   "metadata": {},
   "outputs": [],
   "source": [
    "'''\n",
    "Direction is set by the user, validating whether the user entered a lower c or f, then calling the above functions.\n",
    "'''\n",
    "def get_direction():\n",
    "    direction = input(\"Please enter 'c' for Celsuis to Fehrenheit or 'f' for Fehrenheit to Celsuis\")\n",
    "    if direction[0].lower() == 'c':\n",
    "        return c_to_f()\n",
    "    elif direction[0].lower() == 'f':\n",
    "        return f_to_c()\n",
    "    else:\n",
    "        print(\"Wrong input, please try again.\")\n"
   ]
  },
  {
   "cell_type": "code",
   "execution_count": 65,
   "id": "15801f2b-0df2-4238-8991-debb70098515",
   "metadata": {},
   "outputs": [
    {
     "name": "stdin",
     "output_type": "stream",
     "text": [
      "Please enter 'c' for Celsuis to Fehrenheit or 'f' for Fehrenheit to Celsuis c\n",
      "Please enter a temp value to convert 37\n"
     ]
    },
    {
     "data": {
      "text/plain": [
       "98.60000000000001"
      ]
     },
     "execution_count": 65,
     "metadata": {},
     "output_type": "execute_result"
    }
   ],
   "source": [
    "get_direction()"
   ]
  },
  {
   "cell_type": "code",
   "execution_count": 67,
   "id": "3a194de2-cdea-4d8f-8842-a8eea7d93624",
   "metadata": {},
   "outputs": [
    {
     "name": "stdin",
     "output_type": "stream",
     "text": [
      "Please enter 'c' for Celsuis to Fehrenheit or 'f' for Fehrenheit to Celsuis f\n",
      "Please enter a temp value to convert 98.601\n"
     ]
    },
    {
     "data": {
      "text/plain": [
       "37.00055555555556"
      ]
     },
     "execution_count": 67,
     "metadata": {},
     "output_type": "execute_result"
    }
   ],
   "source": [
    "get_direction()"
   ]
  },
  {
   "cell_type": "code",
   "execution_count": 69,
   "id": "210c4b1f-22ae-42d4-94bc-f8a2516af11b",
   "metadata": {},
   "outputs": [
    {
     "name": "stdin",
     "output_type": "stream",
     "text": [
      "Please enter 'c' for Celsuis to Fehrenheit or 'f' for Fehrenheit to Celsuis c\n",
      "Please enter a temp value to convert f\n"
     ]
    },
    {
     "name": "stdout",
     "output_type": "stream",
     "text": [
      "Wrong value, please enter a float number\n"
     ]
    },
    {
     "name": "stdin",
     "output_type": "stream",
     "text": [
      "Please enter a temp value to convert 10\n"
     ]
    },
    {
     "data": {
      "text/plain": [
       "50.0"
      ]
     },
     "execution_count": 69,
     "metadata": {},
     "output_type": "execute_result"
    }
   ],
   "source": [
    "get_direction()"
   ]
  },
  {
   "cell_type": "code",
   "execution_count": null,
   "id": "991ac0fe-d3a6-4c3a-a04c-89fea779c4cf",
   "metadata": {},
   "outputs": [],
   "source": []
  }
 ],
 "metadata": {
  "kernelspec": {
   "display_name": "Python 3 (ipykernel)",
   "language": "python",
   "name": "python3"
  },
  "language_info": {
   "codemirror_mode": {
    "name": "ipython",
    "version": 3
   },
   "file_extension": ".py",
   "mimetype": "text/x-python",
   "name": "python",
   "nbconvert_exporter": "python",
   "pygments_lexer": "ipython3",
   "version": "3.12.4"
  }
 },
 "nbformat": 4,
 "nbformat_minor": 5
}
